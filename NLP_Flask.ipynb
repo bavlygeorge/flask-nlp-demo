{
 "cells": [
  {
   "cell_type": "code",
   "execution_count": 1,
   "id": "0961674c",
   "metadata": {
    "scrolled": true
   },
   "outputs": [],
   "source": [
    "# !pip install flask-restful"
   ]
  },
  {
   "cell_type": "code",
   "execution_count": 2,
   "id": "acbd6a65",
   "metadata": {},
   "outputs": [],
   "source": [
    "import numpy as np\n",
    "import pandas as pd\n",
    "import matplotlib.pyplot as plt\n",
    "import seaborn as sns\n",
    "%matplotlib inline\n",
    "\n",
    "from sklearn.model_selection import train_test_split\n",
    "from sklearn.metrics import classification_report\n",
    "\n",
    "from sklearn.feature_extraction.text import TfidfVectorizer\n",
    "from sklearn.naive_bayes import MultinomialNB\n",
    "from sklearn.pipeline import make_pipeline"
   ]
  },
  {
   "cell_type": "code",
   "execution_count": 3,
   "id": "fb05a44d",
   "metadata": {},
   "outputs": [
    {
     "data": {
      "text/html": [
       "<div>\n",
       "<style scoped>\n",
       "    .dataframe tbody tr th:only-of-type {\n",
       "        vertical-align: middle;\n",
       "    }\n",
       "\n",
       "    .dataframe tbody tr th {\n",
       "        vertical-align: top;\n",
       "    }\n",
       "\n",
       "    .dataframe thead th {\n",
       "        text-align: right;\n",
       "    }\n",
       "</style>\n",
       "<table border=\"1\" class=\"dataframe\">\n",
       "  <thead>\n",
       "    <tr style=\"text-align: right;\">\n",
       "      <th></th>\n",
       "      <th>job title</th>\n",
       "      <th>industry</th>\n",
       "    </tr>\n",
       "  </thead>\n",
       "  <tbody>\n",
       "    <tr>\n",
       "      <th>0</th>\n",
       "      <td>technical support and helpdesk supervisor - co...</td>\n",
       "      <td>IT</td>\n",
       "    </tr>\n",
       "    <tr>\n",
       "      <th>1</th>\n",
       "      <td>senior technical support engineer</td>\n",
       "      <td>IT</td>\n",
       "    </tr>\n",
       "    <tr>\n",
       "      <th>2</th>\n",
       "      <td>head of it services</td>\n",
       "      <td>IT</td>\n",
       "    </tr>\n",
       "    <tr>\n",
       "      <th>3</th>\n",
       "      <td>js front end engineer</td>\n",
       "      <td>IT</td>\n",
       "    </tr>\n",
       "    <tr>\n",
       "      <th>4</th>\n",
       "      <td>network and telephony controller</td>\n",
       "      <td>IT</td>\n",
       "    </tr>\n",
       "  </tbody>\n",
       "</table>\n",
       "</div>"
      ],
      "text/plain": [
       "                                           job title industry\n",
       "0  technical support and helpdesk supervisor - co...       IT\n",
       "1                  senior technical support engineer       IT\n",
       "2                                head of it services       IT\n",
       "3                              js front end engineer       IT\n",
       "4                   network and telephony controller       IT"
      ]
     },
     "execution_count": 3,
     "metadata": {},
     "output_type": "execute_result"
    }
   ],
   "source": [
    "df = pd.read_csv('Job_titles_and_industries.csv')\n",
    "df.head()"
   ]
  },
  {
   "cell_type": "code",
   "execution_count": 4,
   "id": "b1d4d842",
   "metadata": {},
   "outputs": [
    {
     "data": {
      "text/plain": [
       "(8586, 2)"
      ]
     },
     "execution_count": 4,
     "metadata": {},
     "output_type": "execute_result"
    }
   ],
   "source": [
    "df.shape"
   ]
  },
  {
   "cell_type": "code",
   "execution_count": 5,
   "id": "e646f227",
   "metadata": {
    "scrolled": true
   },
   "outputs": [
    {
     "data": {
      "text/plain": [
       "IT             4746\n",
       "Marketing      2031\n",
       "Education      1435\n",
       "Accountancy     374\n",
       "Name: industry, dtype: int64"
      ]
     },
     "execution_count": 5,
     "metadata": {},
     "output_type": "execute_result"
    }
   ],
   "source": [
    "df.industry.value_counts()"
   ]
  },
  {
   "cell_type": "code",
   "execution_count": 6,
   "id": "de99e30b",
   "metadata": {},
   "outputs": [
    {
     "data": {
      "image/png": "[encoded data removed]",
      "text/plain": [
       "<Figure size 432x288 with 1 Axes>"
      ]
     },
     "metadata": {
      "needs_background": "light"
     },
     "output_type": "display_data"
    }
   ],
   "source": [
    "sns.countplot(x='industry', data=df)\n",
    "plt.show()"
   ]
  },
  {
   "cell_type": "markdown",
   "id": "57ebe88d",
   "metadata": {},
   "source": [
    "## As we can see the data is highly imbalanced so we need to report the f1-score not the accuracy as it will be misleading due the the high imbalance between classes"
   ]
  },
  {
   "cell_type": "code",
   "execution_count": 7,
   "id": "e5b302cb",
   "metadata": {},
   "outputs": [],
   "source": [
    "X = df['job title']\n",
    "y = df['industry']\n",
    "X_train, X_test, y_train, y_test = train_test_split(X, y, test_size=0.3, random_state=42, stratify=y)"
   ]
  },
  {
   "cell_type": "markdown",
   "id": "51444cbe",
   "metadata": {},
   "source": [
    "## I will use  the Multinomial Naive Bayes as it is a powerful model for dealing with discrete data like text besides it is scalable and can handle large datasets."
   ]
  },
  {
   "cell_type": "code",
   "execution_count": 8,
   "id": "9711e320",
   "metadata": {},
   "outputs": [],
   "source": [
    "model = make_pipeline(TfidfVectorizer(), MultinomialNB())\n",
    "model.fit(X_train, y_train)\n",
    "y_pred = model.predict(X_test)"
   ]
  },
  {
   "cell_type": "code",
   "execution_count": 9,
   "id": "8c30f701",
   "metadata": {},
   "outputs": [
    {
     "name": "stdout",
     "output_type": "stream",
     "text": [
      "              precision    recall  f1-score   support\n",
      "\n",
      " Accountancy       0.92      0.58      0.71       112\n",
      "   Education       0.98      0.82      0.89       431\n",
      "          IT       0.92      0.97      0.95      1424\n",
      "   Marketing       0.86      0.89      0.88       609\n",
      "\n",
      "    accuracy                           0.91      2576\n",
      "   macro avg       0.92      0.82      0.86      2576\n",
      "weighted avg       0.91      0.91      0.91      2576\n",
      "\n"
     ]
    }
   ],
   "source": [
    "print(classification_report(y_test, y_pred))"
   ]
  },
  {
   "cell_type": "markdown",
   "id": "3b696f69",
   "metadata": {},
   "source": [
    "## we print the classification report however we are only interested in the f1-score part as it is the harmonic mean of the percision and recall and hence is a good indication for imbalanced datasets"
   ]
  },
  {
   "cell_type": "markdown",
   "id": "ab61cd05",
   "metadata": {},
   "source": [
    "## as we can see from the f1-score the model performance is poor for the accountancy class as it contains very few data comparing to other classes\n",
    "## the performance is the best at the IT class as it contains alot of records"
   ]
  },
  {
   "cell_type": "code",
   "execution_count": 10,
   "id": "159640c4",
   "metadata": {},
   "outputs": [
    {
     "data": {
      "text/plain": [
       "7664                       dance teacher- india- gt\n",
       "4866    marketing automation consultant - yorkshire\n",
       "7094                         sen graduate- hounslow\n",
       "4532                      marketing & events intern\n",
       "5427                    digital marketing executive\n",
       "Name: job title, dtype: object"
      ]
     },
     "execution_count": 10,
     "metadata": {},
     "output_type": "execute_result"
    }
   ],
   "source": [
    "X_test.sample(5)"
   ]
  },
  {
   "cell_type": "code",
   "execution_count": 11,
   "id": "6e71e342",
   "metadata": {},
   "outputs": [],
   "source": [
    "def predict_industry(s):\n",
    "    return model.predict([s])[0]"
   ]
  },
  {
   "cell_type": "code",
   "execution_count": 12,
   "id": "00fb4a99",
   "metadata": {},
   "outputs": [
    {
     "name": "stdout",
     "output_type": "stream",
     "text": [
      " * Serving Flask app \"__main__\" (lazy loading)\n",
      " * Environment: production\n",
      "   WARNING: This is a development server. Do not use it in a production deployment.\n",
      "   Use a production WSGI server instead.\n",
      " * Debug mode: off\n"
     ]
    },
    {
     "name": "stderr",
     "output_type": "stream",
     "text": [
      " * Running on http://127.0.0.1:8080/ (Press CTRL+C to quit)\n",
      "127.0.0.1 - - [26/Nov/2021 18:15:58] \"\u001b[37mGET / HTTP/1.1\u001b[0m\" 200 -\n",
      "127.0.0.1 - - [26/Nov/2021 18:15:58] \"\u001b[37mGET /favicon.ico HTTP/1.1\u001b[0m\" 200 -\n",
      "127.0.0.1 - - [26/Nov/2021 18:16:26] \"\u001b[37mGET /dance%20teacher-%20india-%20gt HTTP/1.1\u001b[0m\" 200 -\n",
      "127.0.0.1 - - [26/Nov/2021 18:16:26] \"\u001b[37mGET /favicon.ico HTTP/1.1\u001b[0m\" 200 -\n"
     ]
    }
   ],
   "source": [
    "from flask import Flask\n",
    "app = Flask(__name__)\n",
    "\n",
    "@app.route('/', methods=['GET'])\n",
    "def test():\n",
    "    return 'It works!'\n",
    "\n",
    "@app.route('/<string:name>', methods=['GET'])\n",
    "def returnOne(name):\n",
    "    return predict_industry(name)\n",
    "\n",
    "if __name__ == '__main__':\n",
    "    app.run(debug=False, port=8080) #run app on port 8080 in debug mode"
   ]
  },
  {
   "cell_type": "code",
   "execution_count": null,
   "id": "dab8b5f8",
   "metadata": {},
   "outputs": [],
   "source": []
  }
 ],
 "metadata": {
  "kernelspec": {
   "display_name": "Python 3",
   "language": "python",
   "name": "python3"
  },
  "language_info": {
   "codemirror_mode": {
    "name": "ipython",
    "version": 3
   },
   "file_extension": ".py",
   "mimetype": "text/x-python",
   "name": "python",
   "nbconvert_exporter": "python",
   "pygments_lexer": "ipython3",
   "version": "3.8.8"
  }
 },
 "nbformat": 4,
 "nbformat_minor": 5
}
